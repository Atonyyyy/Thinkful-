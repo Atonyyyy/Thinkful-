{
 "cells": [
  {
   "cell_type": "code",
   "execution_count": 4,
   "metadata": {},
   "outputs": [],
   "source": [
    "import numpy as np\n",
    "ages =[14,12,11,10,8,6,8]"
   ]
  },
  {
   "cell_type": "code",
   "execution_count": 15,
   "metadata": {},
   "outputs": [
    {
     "name": "stdout",
     "output_type": "stream",
     "text": [
      "('variance', 6.408163265306122)\n",
      "('mean', 9.857142857142858)\n",
      "('std', 2.531435020952764)\n",
      "('mean', 9.857142857142858)\n",
      "('median', 10.0)\n",
      "('Standard Error', 1.0334540197243194)\n",
      "Mode is 8\n"
     ]
    }
   ],
   "source": [
    "print((\"variance\", np.var([ages],)))\n",
    "print((\"mean\"  ,np.mean([ages])))\n",
    "print((\"std\"  ,np.std([ages])))\n",
    "print((\"mean\", np.mean([ages])))\n",
    "print((\"median\", np.median([ages])))\n",
    "print((\"Standard Error\", np.std([ages]/np.sqrt(len(ages)-1))))\n",
    "print(\"Mode is 8\")\n",
    "\n",
    "#Question #1 Answer"
   ]
  },
  {
   "cell_type": "code",
   "execution_count": 1,
   "metadata": {},
   "outputs": [],
   "source": [
    "#2. I would choose mean because the median is closed together."
   ]
  },
  {
   "cell_type": "code",
   "execution_count": 12,
   "metadata": {},
   "outputs": [],
   "source": [
    "ages2= [14,12,11,10,8,7,8]"
   ]
  },
  {
   "cell_type": "code",
   "execution_count": 14,
   "metadata": {},
   "outputs": [
    {
     "name": "stdout",
     "output_type": "stream",
     "text": [
      "('variance', 5.428571428571429)\n",
      "('mean', 10.0)\n",
      "('std', 2.32992949004287)\n",
      "('mean', 10.0)\n",
      "('median', 10.0)\n",
      "('Standard Error', 0.951189731211342)\n",
      "Mode is 8\n"
     ]
    }
   ],
   "source": [
    "print((\"variance\", np.var([ages2],)))\n",
    "print((\"mean\"  ,np.mean([ages2])))\n",
    "print((\"std\"  ,np.std([ages2])))\n",
    "print((\"mean\", np.mean([ages2])))\n",
    "print((\"median\", np.median([ages2])))\n",
    "print((\"Standard Error\", np.std([ages2]/np.sqrt(len(ages2)-1))))\n",
    "print(\"Mode is 8\")\n",
    "\n",
    "#3 answer"
   ]
  },
  {
   "cell_type": "code",
   "execution_count": 7,
   "metadata": {},
   "outputs": [],
   "source": [
    "ages3= [14,12,11,10,8,7,1]"
   ]
  },
  {
   "cell_type": "code",
   "execution_count": 10,
   "metadata": {},
   "outputs": [
    {
     "name": "stdout",
     "output_type": "stream",
     "text": [
      "('variance', 5.428571428571429)\n",
      "('mean', 10.0)\n",
      "('std', 2.32992949004287)\n",
      "('mean', 10.0)\n",
      "('median', 10.0)\n",
      "('Standard Error', 0.951189731211342)\n",
      "No Mode\n"
     ]
    }
   ],
   "source": [
    "print((\"variance\", np.var([ages2],)))\n",
    "print((\"mean\"  ,np.mean([ages2])))\n",
    "print((\"std\"  ,np.std([ages2])))\n",
    "print((\"mean\", np.mean([ages2])))\n",
    "print((\"median\", np.median([ages2])))\n",
    "print((\"Standard Error\", np.std([ages2]/np.sqrt(len(ages2)-1))))\n",
    "print(\"No Mode\")\n",
    "#4 answer"
   ]
  },
  {
   "cell_type": "code",
   "execution_count": 16,
   "metadata": {},
   "outputs": [],
   "source": [
    "#4 The mean is far apart because of the 1 outlier. Use Median."
   ]
  },
  {
   "cell_type": "code",
   "execution_count": null,
   "metadata": {},
   "outputs": [],
   "source": [
    "#5 We remove sci-phi because it is not as closely related. So average of the other 3 would be 16% estimated fans."
   ]
  }
 ],
 "metadata": {
  "kernelspec": {
   "display_name": "Python 3",
   "language": "python",
   "name": "python3"
  },
  "language_info": {
   "codemirror_mode": {
    "name": "ipython",
    "version": 3
   },
   "file_extension": ".py",
   "mimetype": "text/x-python",
   "name": "python",
   "nbconvert_exporter": "python",
   "pygments_lexer": "ipython3",
   "version": "3.7.1"
  }
 },
 "nbformat": 4,
 "nbformat_minor": 2
}
