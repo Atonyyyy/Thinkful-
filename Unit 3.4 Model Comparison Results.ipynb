{
 "cells": [
  {
   "cell_type": "code",
   "execution_count": null,
   "metadata": {},
   "outputs": [],
   "source": []
  },
  {
   "cell_type": "code",
   "execution_count": 1,
   "metadata": {},
   "outputs": [],
   "source": [
    "import numpy as np\n",
    "import pandas as pd\n",
    "import seaborn as sns\n",
    "from pandas.tools.plotting import scatter_matrix\n",
    "import matplotlib.pyplot as plt\n",
    "from time import time\n",
    "from IPython.display import display\n",
    "from sklearn import model_selection\n",
    "from sklearn.metrics import accuracy_score,roc_auc_score, roc_curve\n",
    "from sklearn.metrics import classification_report\n",
    "from sklearn.metrics import confusion_matrix\n",
    "from sklearn.metrics import f1_score\n",
    "from sklearn.naive_bayes import BernoulliNB, GaussianNB\n",
    "from sklearn.model_selection import train_test_split\n",
    "from sklearn.linear_model import LogisticRegression\n",
    "from sklearn.tree import DecisionTreeClassifier\n",
    "from sklearn.neighbors import KNeighborsClassifier\n",
    "from sklearn.ensemble import RandomForestClassifier\n",
    "from sklearn.ensemble import AdaBoostClassifier\n",
    "import xgboost as xgb\n",
    "from xgboost import XGBClassifier\n",
    "from sklearn.pipeline import Pipeline\n",
    "\n",
    "from sklearn.pipeline import make_pipeline\n",
    "from sklearn import preprocessing\n",
    "from sklearn.svm import SVC\n",
    "from sklearn.preprocessing import StandardScaler\n",
    "\n",
    "%matplotlib inline\n",
    "import warnings\n",
    "warnings.filterwarnings('ignore')"
   ]
  },
  {
   "cell_type": "code",
   "execution_count": 2,
   "metadata": {
    "scrolled": true
   },
   "outputs": [
    {
     "data": {
      "text/html": [
       "<div>\n",
       "<style scoped>\n",
       "    .dataframe tbody tr th:only-of-type {\n",
       "        vertical-align: middle;\n",
       "    }\n",
       "\n",
       "    .dataframe tbody tr th {\n",
       "        vertical-align: top;\n",
       "    }\n",
       "\n",
       "    .dataframe thead th {\n",
       "        text-align: right;\n",
       "    }\n",
       "</style>\n",
       "<table border=\"1\" class=\"dataframe\">\n",
       "  <thead>\n",
       "    <tr style=\"text-align: right;\">\n",
       "      <th></th>\n",
       "      <th>age</th>\n",
       "      <th>balance</th>\n",
       "      <th>day</th>\n",
       "      <th>duration</th>\n",
       "      <th>campaign</th>\n",
       "      <th>pdays</th>\n",
       "      <th>previous</th>\n",
       "      <th>job_blue-collar</th>\n",
       "      <th>job_entrepreneur</th>\n",
       "      <th>job_housemaid</th>\n",
       "      <th>...</th>\n",
       "      <th>month_jul</th>\n",
       "      <th>month_jun</th>\n",
       "      <th>month_mar</th>\n",
       "      <th>month_may</th>\n",
       "      <th>month_nov</th>\n",
       "      <th>month_oct</th>\n",
       "      <th>month_sep</th>\n",
       "      <th>poutcome_other</th>\n",
       "      <th>poutcome_success</th>\n",
       "      <th>poutcome_unknown</th>\n",
       "    </tr>\n",
       "  </thead>\n",
       "  <tbody>\n",
       "    <tr>\n",
       "      <th>0</th>\n",
       "      <td>30</td>\n",
       "      <td>1787</td>\n",
       "      <td>19</td>\n",
       "      <td>79</td>\n",
       "      <td>1</td>\n",
       "      <td>-1</td>\n",
       "      <td>0</td>\n",
       "      <td>0</td>\n",
       "      <td>0</td>\n",
       "      <td>0</td>\n",
       "      <td>...</td>\n",
       "      <td>0</td>\n",
       "      <td>0</td>\n",
       "      <td>0</td>\n",
       "      <td>0</td>\n",
       "      <td>0</td>\n",
       "      <td>1</td>\n",
       "      <td>0</td>\n",
       "      <td>0</td>\n",
       "      <td>0</td>\n",
       "      <td>1</td>\n",
       "    </tr>\n",
       "    <tr>\n",
       "      <th>1</th>\n",
       "      <td>33</td>\n",
       "      <td>4789</td>\n",
       "      <td>11</td>\n",
       "      <td>220</td>\n",
       "      <td>1</td>\n",
       "      <td>339</td>\n",
       "      <td>4</td>\n",
       "      <td>0</td>\n",
       "      <td>0</td>\n",
       "      <td>0</td>\n",
       "      <td>...</td>\n",
       "      <td>0</td>\n",
       "      <td>0</td>\n",
       "      <td>0</td>\n",
       "      <td>1</td>\n",
       "      <td>0</td>\n",
       "      <td>0</td>\n",
       "      <td>0</td>\n",
       "      <td>0</td>\n",
       "      <td>0</td>\n",
       "      <td>0</td>\n",
       "    </tr>\n",
       "    <tr>\n",
       "      <th>2</th>\n",
       "      <td>35</td>\n",
       "      <td>1350</td>\n",
       "      <td>16</td>\n",
       "      <td>185</td>\n",
       "      <td>1</td>\n",
       "      <td>330</td>\n",
       "      <td>1</td>\n",
       "      <td>0</td>\n",
       "      <td>0</td>\n",
       "      <td>0</td>\n",
       "      <td>...</td>\n",
       "      <td>0</td>\n",
       "      <td>0</td>\n",
       "      <td>0</td>\n",
       "      <td>0</td>\n",
       "      <td>0</td>\n",
       "      <td>0</td>\n",
       "      <td>0</td>\n",
       "      <td>0</td>\n",
       "      <td>0</td>\n",
       "      <td>0</td>\n",
       "    </tr>\n",
       "    <tr>\n",
       "      <th>3</th>\n",
       "      <td>30</td>\n",
       "      <td>1476</td>\n",
       "      <td>3</td>\n",
       "      <td>199</td>\n",
       "      <td>4</td>\n",
       "      <td>-1</td>\n",
       "      <td>0</td>\n",
       "      <td>0</td>\n",
       "      <td>0</td>\n",
       "      <td>0</td>\n",
       "      <td>...</td>\n",
       "      <td>0</td>\n",
       "      <td>1</td>\n",
       "      <td>0</td>\n",
       "      <td>0</td>\n",
       "      <td>0</td>\n",
       "      <td>0</td>\n",
       "      <td>0</td>\n",
       "      <td>0</td>\n",
       "      <td>0</td>\n",
       "      <td>1</td>\n",
       "    </tr>\n",
       "    <tr>\n",
       "      <th>4</th>\n",
       "      <td>59</td>\n",
       "      <td>0</td>\n",
       "      <td>5</td>\n",
       "      <td>226</td>\n",
       "      <td>1</td>\n",
       "      <td>-1</td>\n",
       "      <td>0</td>\n",
       "      <td>1</td>\n",
       "      <td>0</td>\n",
       "      <td>0</td>\n",
       "      <td>...</td>\n",
       "      <td>0</td>\n",
       "      <td>0</td>\n",
       "      <td>0</td>\n",
       "      <td>1</td>\n",
       "      <td>0</td>\n",
       "      <td>0</td>\n",
       "      <td>0</td>\n",
       "      <td>0</td>\n",
       "      <td>0</td>\n",
       "      <td>1</td>\n",
       "    </tr>\n",
       "  </tbody>\n",
       "</table>\n",
       "<p>5 rows × 42 columns</p>\n",
       "</div>"
      ],
      "text/plain": [
       "   age  balance  day  duration  campaign  pdays  previous  job_blue-collar  \\\n",
       "0   30     1787   19        79         1     -1         0                0   \n",
       "1   33     4789   11       220         1    339         4                0   \n",
       "2   35     1350   16       185         1    330         1                0   \n",
       "3   30     1476    3       199         4     -1         0                0   \n",
       "4   59        0    5       226         1     -1         0                1   \n",
       "\n",
       "   job_entrepreneur  job_housemaid        ...         month_jul  month_jun  \\\n",
       "0                 0              0        ...                 0          0   \n",
       "1                 0              0        ...                 0          0   \n",
       "2                 0              0        ...                 0          0   \n",
       "3                 0              0        ...                 0          1   \n",
       "4                 0              0        ...                 0          0   \n",
       "\n",
       "   month_mar  month_may  month_nov  month_oct  month_sep  poutcome_other  \\\n",
       "0          0          0          0          1          0               0   \n",
       "1          0          1          0          0          0               0   \n",
       "2          0          0          0          0          0               0   \n",
       "3          0          0          0          0          0               0   \n",
       "4          0          1          0          0          0               0   \n",
       "\n",
       "   poutcome_success  poutcome_unknown  \n",
       "0                 0                 1  \n",
       "1                 0                 0  \n",
       "2                 0                 0  \n",
       "3                 0                 1  \n",
       "4                 0                 1  \n",
       "\n",
       "[5 rows x 42 columns]"
      ]
     },
     "execution_count": 2,
     "metadata": {},
     "output_type": "execute_result"
    }
   ],
   "source": [
    "X=pd.read_csv('cleaned_bank_data.csv',index_col=0)\n",
    "y=X['y']\n",
    "X=X.drop(['y'],axis=1)\n",
    "X.head()"
   ]
  },
  {
   "cell_type": "code",
   "execution_count": null,
   "metadata": {},
   "outputs": [],
   "source": []
  },
  {
   "cell_type": "markdown",
   "metadata": {},
   "source": [
    "\n",
    "## Model comparison of ROC-AUC score"
   ]
  },
  {
   "cell_type": "code",
   "execution_count": 3,
   "metadata": {},
   "outputs": [
    {
     "name": "stdout",
     "output_type": "stream",
     "text": [
      "\t   ROC/AUC\n",
      "\t score\t  std\n",
      "NB:\t0.7084 (0.0172)\n",
      "KNN:\t0.8130 (0.0091)\n",
      "LR:\t0.8873 (0.0031)\n",
      "SVM:\t0.8768 (0.0025)\n",
      "RF:\t0.8154 (0.0234)\n",
      "XGB:\t0.8502 (0.0242)\n"
     ]
    }
   ],
   "source": [
    "#ROC-AUC scores for all of our models.\n",
    "print('\\t   ROC/AUC\\n\\t score\\t  std')\n",
    "results = []\n",
    "names = []\n",
    "models = []\n",
    "\n",
    "models.append(('NB', BernoulliNB()))\n",
    "models.append(('KNN', make_pipeline(preprocessing.StandardScaler(), \n",
    "                                    KNeighborsClassifier(n_neighbors=42))))\n",
    "models.append(('LR', LogisticRegression()))\n",
    "models.append(('SVM', make_pipeline(preprocessing.StandardScaler(), \n",
    "                                    SVC(kernel='linear',C=100,gamma=1e-05))))\n",
    "\n",
    "models.append(('RF', RandomForestClassifier(bootstrap=True,\n",
    "                                            max_depth=2,\n",
    "                                            min_samples_leaf=30,\n",
    "                                            min_samples_split=5,\n",
    "                                            max_features=4,\n",
    "                                            n_estimators=5)))\n",
    "models.append(('XGB',  XGBClassifier(bootstrap=True,subsample= 0.3,\n",
    "                                     n_estimators=30,max_depth=2,\n",
    "                                     learning_rate=0.3,\n",
    "                                     colsample_bytree=0.15,\n",
    "                                     colsample_bylevel=0.0001)))\n",
    "\n",
    "\n",
    "for name, model in models:\n",
    "    kfold = model_selection.KFold(n_splits = 3, random_state = 99)\n",
    "\n",
    "    cv_results = model_selection.cross_val_score(model, X, y,\n",
    "                                                cv = 3, \n",
    "                                                 scoring = 'roc_auc')\n",
    "    results.append(cv_results)\n",
    "    names.append(name)\n",
    "    msg = \"%s:\\t%.4f (%.4f)\" % (name, cv_results.mean(), cv_results.std())\n",
    "    print(msg)"
   ]
  },
  {
   "cell_type": "code",
   "execution_count": 4,
   "metadata": {},
   "outputs": [
    {
     "data": {
      "image/png": "[encoded data removed]",
      "text/plain": [
       "<Figure size 432x288 with 1 Axes>"
      ]
     },
     "metadata": {
      "needs_background": "light"
     },
     "output_type": "display_data"
    }
   ],
   "source": [
    "#Let's take a look at these ROC-AUC scores on a box plot\n",
    "fig = plt.figure()\n",
    "fig.suptitle('Models\\n(ROC-AUC Score)')\n",
    "ax = fig.add_subplot(111)\n",
    "plt.boxplot(results)\n",
    "ax.set_xticklabels(names)\n",
    "plt.show()"
   ]
  },
  {
   "cell_type": "code",
   "execution_count": null,
   "metadata": {},
   "outputs": [],
   "source": []
  },
  {
   "cell_type": "markdown",
   "metadata": {},
   "source": [
    "## Model comparison of accuracy score"
   ]
  },
  {
   "cell_type": "code",
   "execution_count": null,
   "metadata": {},
   "outputs": [],
   "source": []
  },
  {
   "cell_type": "code",
   "execution_count": 4,
   "metadata": {},
   "outputs": [
    {
     "name": "stdout",
     "output_type": "stream",
     "text": [
      "\t   Accuracy\n",
      "\t score\t  std\n",
      "NB:\t0.8346 (0.0203)\n",
      "KNN:\t0.8879 (0.0021)\n",
      "LR:\t0.8998 (0.0054)\n",
      "SVM:\t0.8938 (0.0019)\n",
      "RF:\t0.8845 (0.0005)\n",
      "XGB:\t0.8856 (0.0008)\n"
     ]
    }
   ],
   "source": [
    "#Let's see the accuracy scores for all of our models. \n",
    "models = []\n",
    "results = []\n",
    "names = []\n",
    "print('\\t   Accuracy\\n\\t score\\t  std')\n",
    "\n",
    "models.append(('NB', BernoulliNB()))\n",
    "\n",
    "models.append(('KNN', make_pipeline(preprocessing.StandardScaler(), \n",
    "                                    KNeighborsClassifier(n_neighbors=42))))\n",
    "\n",
    "models.append(('LR', LogisticRegression()))\n",
    "\n",
    "models.append(('SVM', make_pipeline(preprocessing.StandardScaler(), \n",
    "                                    SVC(kernel='linear',C=100,gamma=1e-05))))\n",
    "\n",
    "models.append(('RF', RandomForestClassifier(bootstrap=True,\n",
    "                                            max_depth=2,\n",
    "                                            min_samples_leaf=30,\n",
    "                                            min_samples_split=5,\n",
    "                                            max_features=4,\n",
    "                                            n_estimators=5)))\n",
    "\n",
    "models.append(('XGB',  XGBClassifier(bootstrap=True,subsample= 0.3,\n",
    "                                     n_estimators=30,max_depth=2,\n",
    "                                     learning_rate=0.3,\n",
    "                                     colsample_bytree=0.15,\n",
    "                                     colsample_bylevel=0.0001)))\n",
    "\n",
    "\n",
    "for name, model in models:\n",
    "    kfold = model_selection.KFold(n_splits = 3, random_state = 99)\n",
    "    cv_results = model_selection.cross_val_score(model, X, y,\n",
    "                                                cv = 3, \n",
    "                                                 scoring = 'accuracy')\n",
    "    results.append(cv_results)\n",
    "    names.append(name)\n",
    "    msg = \"%s:\\t%.4f (%.4f)\" % (name, cv_results.mean(), cv_results.std())\n",
    "    print(msg)"
   ]
  },
  {
   "cell_type": "code",
   "execution_count": 5,
   "metadata": {},
   "outputs": [
    {
     "data": {
      "image/png": "[encoded data removed]",
      "text/plain": [
       "<Figure size 432x288 with 1 Axes>"
      ]
     },
     "metadata": {
      "needs_background": "light"
     },
     "output_type": "display_data"
    }
   ],
   "source": [
    "#Let's take a look at the Accuracy scores on a box plot\n",
    "fig = plt.figure()\n",
    "fig.suptitle('Models\\n(Accuracy Score)')\n",
    "ax = fig.add_subplot(111)\n",
    "plt.boxplot(results)\n",
    "ax.set_xticklabels(names)\n",
    "plt.show()"
   ]
  },
  {
   "cell_type": "markdown",
   "metadata": {},
   "source": [
    "- LR has the highest accuracy score\n",
    "- XGB is the most stable"
   ]
  },
  {
   "cell_type": "markdown",
   "metadata": {},
   "source": [
    "## Evaluation of the best model - "
   ]
  },
  {
   "cell_type": "code",
   "execution_count": null,
   "metadata": {},
   "outputs": [],
   "source": [
    "Need to do LR "
   ]
  },
  {
   "cell_type": "code",
   "execution_count": 3,
   "metadata": {},
   "outputs": [
    {
     "data": {
      "text/plain": [
       "XGBClassifier(base_score=0.5, booster='gbtree', bootstrap=True,\n",
       "       colsample_bylevel=0.0001, colsample_bynode=1, colsample_bytree=0.15,\n",
       "       gamma=0, learning_rate=0.3, max_delta_step=0, max_depth=2,\n",
       "       min_child_weight=1, missing=None, n_estimators=30, n_jobs=1,\n",
       "       nthread=None, objective='binary:logistic', random_state=0,\n",
       "       reg_alpha=0, reg_lambda=1, scale_pos_weight=1, seed=None,\n",
       "       silent=None, subsample=0.3, verbosity=1)"
      ]
     },
     "execution_count": 3,
     "metadata": {},
     "output_type": "execute_result"
    }
   ],
   "source": [
    "best_model = XGBClassifier(bootstrap=True,subsample= 0.3,\n",
    "                                     n_estimators=30,max_depth=2,\n",
    "                                     learning_rate=0.3,\n",
    "                                     colsample_bytree=0.15,\n",
    "                                     colsample_bylevel=0.0001)\n",
    "best_model.fit(X,y)"
   ]
  },
  {
   "cell_type": "code",
   "execution_count": 13,
   "metadata": {},
   "outputs": [
    {
     "name": "stdout",
     "output_type": "stream",
     "text": [
      "\n",
      "\t precision \n",
      "\t score\t  stdev\n",
      "LR:\t0.6389 (0.1039)\n",
      "\n",
      "\t recall \n",
      "\t score\t  stdev\n",
      "LR:\t0.0211 (0.0027)\n"
     ]
    }
   ],
   "source": [
    "for var in ['precision','recall']:\n",
    "    print('\\n\\t {} \\n\\t score\\t  stdev'.format(var))\n",
    "    results = []\n",
    "    names = []\n",
    "    models = []\n",
    "\n",
    "    models.append(('LR', XGBClassifier(bootstrap=True,\n",
    "                    subsample= 0.3,\n",
    "                           n_estimators=30,\n",
    "                           max_depth=2,\n",
    "                           learning_rate=0.3,\n",
    "                           colsample_bytree=0.15,\n",
    "                           colsample_bylevel=0.0001)))\n",
    "\n",
    "\n",
    "    for name, model in models:\n",
    "        kfold = model_selection.KFold(n_splits = 3, random_state = 99)\n",
    "\n",
    "        cv_results = model_selection.cross_val_score(model, X, y,cv = 3,scoring = var)\n",
    "        \n",
    "        results.append(cv_results)\n",
    "        names.append(name)\n",
    "        msg = \"%s:\\t%.4f (%.4f)\" % (name, cv_results.mean(), cv_results.std())\n",
    "        print(msg)"
   ]
  },
  {
   "cell_type": "markdown",
   "metadata": {},
   "source": [
    "Precision(positive predictive value) TP/(TP + FP) - What percent of positive predictions were correct? 69.89% TP/(TP + FP)\n",
    "\n",
    "Recall(sensitivity) TP/(TP + FN) - What percent of the positive cases did you catch? 2.11%"
   ]
  },
  {
   "cell_type": "code",
   "execution_count": 10,
   "metadata": {},
   "outputs": [
    {
     "name": "stdout",
     "output_type": "stream",
     "text": [
      "F1score =  86.68%\n"
     ]
    }
   ],
   "source": [
    "#F1score= 2 * (precision*recall) / (precision+recall)\n",
    "Fmeasure = 2*(0.8552 * 0.8788) / (0.8552 + 0.8788)\n",
    "print('F1score =  {0:.2%}'.format(Fmeasure))"
   ]
  },
  {
   "cell_type": "code",
   "execution_count": 11,
   "metadata": {},
   "outputs": [],
   "source": [
    "#If we use a hold out of 10% we can plot the ROC curve\n",
    "X_train1, X_test1, y_train1, y_test1 = train_test_split(X, y, test_size=0.10)\n",
    "X_train2, X_test2, y_train2, y_test2 = train_test_split(X, y, test_size=0.15)\n",
    "X_train3, X_test3, y_train3, y_test3 = train_test_split(X, y, test_size=0.20)\n",
    "X_train4, X_test4, y_train4, y_test4 = train_test_split(X, y, test_size=0.25)\n",
    "\n",
    "best_model.fit(X_train1,y_train1)\n",
    "best_model.fit(X_train2,y_train2)\n",
    "best_model.fit(X_train3,y_train3)\n",
    "best_model.fit(X_train4,y_train4)\n",
    "\n",
    "ypred_train1 = best_model.predict_proba(X_train1)[:, 1]\n",
    "ypred_test1 = best_model.predict_proba(X_test1)[:, 1]\n",
    "ypred_train2 = best_model.predict_proba(X_train2)[:, 1]\n",
    "ypred_test2 = best_model.predict_proba(X_test2)[:, 1]\n",
    "ypred_train3 = best_model.predict_proba(X_train3)[:, 1]\n",
    "ypred_test3 = best_model.predict_proba(X_test3)[:, 1]\n",
    "ypred_train4 = best_model.predict_proba(X_train4)[:, 1]\n",
    "ypred_test4 = best_model.predict_proba(X_test4)[:, 1]\n",
    "\n",
    "fpr1, tpr1, thresholds = roc_curve(y_train1, ypred_train1)\n",
    "fpr_1, tpr_1, thresholds = roc_curve(y_test1, ypred_test1)\n",
    "\n",
    "fpr2, tpr2, thresholds = roc_curve(y_train2, ypred_train2)\n",
    "fpr_2, tpr_2, thresholds = roc_curve(y_test2, ypred_test2)\n",
    "\n",
    "fpr3, tpr3, thresholds = roc_curve(y_train3, ypred_train3)\n",
    "fpr_3, tpr_3, thresholds = roc_curve(y_test3, ypred_test3)\n",
    "\n",
    "fpr4, tpr4, thresholds = roc_curve(y_train4, ypred_train4)\n",
    "fpr_4, tpr_4, thresholds = roc_curve(y_test4, ypred_test4)"
   ]
  },
  {
   "cell_type": "code",
   "execution_count": 12,
   "metadata": {},
   "outputs": [
    {
     "data": {
      "text/plain": [
       "[<matplotlib.lines.Line2D at 0xedd7358>]"
      ]
     },
     "execution_count": 12,
     "metadata": {},
     "output_type": "execute_result"
    },
    {
     "data": {
      "image/png": "[encoded data removed]",
      "text/plain": [
       "<Figure size 648x648 with 4 Axes>"
      ]
     },
     "metadata": {
      "needs_background": "light"
     },
     "output_type": "display_data"
    }
   ],
   "source": [
    "plt.rcParams['font.size'] = 12\n",
    "plt.figure(figsize=(9,9))\n",
    "\n",
    "plt.subplot(2, 2, 1)\n",
    "plt.plot(fpr1, tpr1,color='r')\n",
    "plt.plot(fpr_1, tpr_1,color='g',label=\"10%holdout\")\n",
    "plt.legend(['train', '10%holdout'])\n",
    "plt.title('ROC curve')\n",
    "plt.xlabel('Precision(positive predictive value)\\n TP/(TP + FP)')\n",
    "plt.ylabel('Recall(sensitivity) TP/(TP + FN)')\n",
    "plt.xlim([0.0, 1])\n",
    "plt.ylim([0.0, 1])\n",
    "plt.grid(True)\n",
    "plt.plot([0, 1], [0, 1],'b--')\n",
    "plt.tight_layout()\n",
    "\n",
    "plt.subplot(2, 2, 2)\n",
    "plt.plot(fpr2, tpr2,color='r')\n",
    "plt.plot(fpr_2, tpr_2,color='g', label=\"15%holdout\")\n",
    "plt.legend(['train', '15%holdout'])\n",
    "plt.title('ROC curve')\n",
    "plt.xlabel('Precision(positive predictive value)\\n TP/(TP + FP)')\n",
    "plt.ylabel('Recall(sensitivity) TP/(TP + FN)')\n",
    "plt.xlim([0.0, 1])\n",
    "plt.ylim([0.0, 1])\n",
    "plt.grid(True)\n",
    "plt.plot([0, 1], [0, 1],'b--')\n",
    "plt.tight_layout()\n",
    "\n",
    "plt.subplot(2, 2, 3)\n",
    "plt.plot(fpr3, tpr3,color='r')\n",
    "plt.plot(fpr_3, tpr_3,color='g', label=\"20%holdout\")\n",
    "plt.legend(['train', '20%holdout'])\n",
    "plt.title('ROC curve')\n",
    "plt.xlabel('Precision(positive predictive value)\\n TP/(TP + FP)')\n",
    "plt.ylabel('Recall(sensitivity) TP/(TP + FN)')\n",
    "plt.xlim([0.0, 1])\n",
    "plt.ylim([0.0, 1])\n",
    "plt.grid(True)\n",
    "plt.plot([0, 1], [0, 1],'b--')\n",
    "plt.tight_layout()\n",
    "\n",
    "plt.subplot(2, 2, 4)\n",
    "plt.plot(fpr4, tpr4,color='r')\n",
    "plt.plot(fpr_4, tpr_4,color='g', label=\"25%holdout\")\n",
    "plt.legend(['train', '25%holdout'])\n",
    "plt.title('ROC curve')\n",
    "plt.xlabel('Precision(positive predictive value)\\n TP/(TP + FP)')\n",
    "plt.ylabel('Recall(sensitivity) TP/(TP + FN)')\n",
    "plt.xlim([0.0, 1])\n",
    "plt.ylim([0.0, 1])\n",
    "plt.tight_layout()\n",
    "plt.grid(True)\n",
    "plt.plot([0, 1], [0, 1],'b--')\n",
    "ax.plot([0, 1], [0, 1], transform=ax.transAxes, ls=\"-\")"
   ]
  },
  {
   "cell_type": "code",
   "execution_count": null,
   "metadata": {},
   "outputs": [],
   "source": [
    "\n",
    "Feature Importance for the best model, XGB"
   ]
  },
  {
   "cell_type": "code",
   "execution_count": 14,
   "metadata": {},
   "outputs": [],
   "source": [
    "best_model.fit(X,y)\n",
    "xgb_importance=pd.DataFrame(list(best_model.get_booster().get_score(importance_type='weight').items()))"
   ]
  },
  {
   "cell_type": "code",
   "execution_count": null,
   "metadata": {},
   "outputs": [],
   "source": []
  }
 ],
 "metadata": {
  "kernelspec": {
   "display_name": "Python 3",
   "language": "python",
   "name": "python3"
  },
  "language_info": {
   "codemirror_mode": {
    "name": "ipython",
    "version": 3
   },
   "file_extension": ".py",
   "mimetype": "text/x-python",
   "name": "python",
   "nbconvert_exporter": "python",
   "pygments_lexer": "ipython3",
   "version": "3.7.1"
  }
 },
 "nbformat": 4,
 "nbformat_minor": 2
}
