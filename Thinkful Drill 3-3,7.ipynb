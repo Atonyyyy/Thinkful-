{
 "cells": [
  {
   "cell_type": "code",
   "execution_count": 1,
   "metadata": {},
   "outputs": [],
   "source": [
    "## Thinkful Drill 3-3.7\n",
    "import numpy as np\n",
    "import pandas as pd\n",
    "import scipy\n",
    "import matplotlib.pyplot as plt\n",
    "%matplotlib inline"
   ]
  },
  {
   "cell_type": "code",
   "execution_count": 2,
   "metadata": {},
   "outputs": [
    {
     "data": {
      "image/png": "[encoded data removed]",
      "text/plain": [
       "<Figure size 432x288 with 1 Axes>"
      ]
     },
     "metadata": {
      "needs_background": "light"
     },
     "output_type": "display_data"
    }
   ],
   "source": [
    "pop1 = np.random.binomial(10, 0.2, 10000)\n",
    "pop2 = np.random.binomial(10,0.5, 10000) \n",
    "\n",
    "\n",
    "plt.hist(pop1, alpha=0.5, label='Population 1') \n",
    "plt.hist(pop2, alpha=0.5, label='Population 2') \n",
    "plt.legend(loc='upper right') \n",
    "plt.show()"
   ]
  },
  {
   "cell_type": "code",
   "execution_count": 3,
   "metadata": {},
   "outputs": [
    {
     "data": {
      "image/png": "[encoded data removed]",
      "text/plain": [
       "<Figure size 432x288 with 1 Axes>"
      ]
     },
     "metadata": {
      "needs_background": "light"
     },
     "output_type": "display_data"
    }
   ],
   "source": [
    "#pulling sample size of 100\n",
    "sample1 = np.random.choice(pop1, 100, replace=True)\n",
    "sample2 = np.random.choice(pop2, 100, replace=True)\n",
    "\n",
    "plt.hist(sample1, alpha=0.5, label='sample 1') \n",
    "plt.hist(sample2, alpha=0.5, label='sample 2') \n",
    "plt.legend(loc='upper right') \n",
    "plt.show()"
   ]
  },
  {
   "cell_type": "code",
   "execution_count": 4,
   "metadata": {},
   "outputs": [
    {
     "name": "stdout",
     "output_type": "stream",
     "text": [
      "('Samples mean 1', 2.01)\n",
      "('Sample mean 2', 5.16)\n",
      "('Sample STD1', 1.1789402020458883)\n",
      "('Sample STD2', 1.5919798993705918)\n",
      "('Difference between two sample means', 3.1500000000000004)\n"
     ]
    }
   ],
   "source": [
    "print((\"Samples mean 1\",sample1.mean()))\n",
    "print((\"Sample mean 2\",sample2.mean()))\n",
    "print((\"Sample STD1\",sample1.std()))\n",
    "print((\"Sample STD2\",sample2.std()))\n",
    "\n",
    "# Compute the difference between the two sample means.\n",
    "diff=sample2.mean( ) -sample1.mean()\n",
    "print((\"Difference between two sample means\",diff))"
   ]
  },
  {
   "cell_type": "code",
   "execution_count": 5,
   "metadata": {},
   "outputs": [
    {
     "data": {
      "image/png": "[encoded data removed]",
      "text/plain": [
       "<Figure size 432x288 with 1 Axes>"
      ]
     },
     "metadata": {
      "needs_background": "light"
     },
     "output_type": "display_data"
    }
   ],
   "source": [
    "#increase same sizes to 1000\n",
    "\n",
    "pop1 = np.random.binomial(10, 0.2, 10000)\n",
    "pop2 = np.random.binomial(10,0.5, 10000) \n",
    "\n",
    "sample1 = np.random.choice(pop1, 1000, replace=True)\n",
    "sample2 = np.random.choice(pop2, 1000, replace=True)\n",
    "\n",
    "plt.hist(pop1, alpha=0.5, label='Population 1') \n",
    "plt.hist(pop2, alpha=0.5, label='Population 2') \n",
    "plt.legend(loc='upper right') \n",
    "plt.show()"
   ]
  },
  {
   "cell_type": "code",
   "execution_count": 7,
   "metadata": {},
   "outputs": [
    {
     "name": "stdout",
     "output_type": "stream",
     "text": [
      "('Samples mean 1', 1.959)\n",
      "('Sample mean 2', 5.105)\n",
      "('Sample STD1', 1.270164949917923)\n",
      "('Sample STD2', 1.6352293417132657)\n",
      "('Difference between two sample means', 3.1460000000000004)\n"
     ]
    }
   ],
   "source": [
    "print((\"Samples mean 1\",sample1.mean()))\n",
    "print((\"Sample mean 2\",sample2.mean()))\n",
    "print((\"Sample STD1\",sample1.std()))\n",
    "print((\"Sample STD2\",sample2.std()))\n",
    "\n",
    "diff=sample2.mean( ) -sample1.mean()\n",
    "print((\"Difference between two sample means\",diff))"
   ]
  },
  {
   "cell_type": "code",
   "execution_count": 8,
   "metadata": {},
   "outputs": [
    {
     "data": {
      "image/png": "[encoded data removed]",
      "text/plain": [
       "<Figure size 432x288 with 1 Axes>"
      ]
     },
     "metadata": {
      "needs_background": "light"
     },
     "output_type": "display_data"
    }
   ],
   "source": [
    "##sample size of 20\n",
    "\n",
    "pop1 = np.random.binomial(10, 0.2, 10000)\n",
    "pop2 = np.random.binomial(10,0.5, 10000) \n",
    "\n",
    "sample1 = np.random.choice(pop1, 20, replace=True)\n",
    "sample2 = np.random.choice(pop2, 20, replace=True)\n",
    "\n",
    "plt.hist(pop1, alpha=0.5, label='Population 1') \n",
    "plt.hist(pop2, alpha=0.5, label='Population 2') \n",
    "plt.legend(loc='upper right') \n",
    "plt.show()"
   ]
  },
  {
   "cell_type": "code",
   "execution_count": 9,
   "metadata": {},
   "outputs": [
    {
     "name": "stdout",
     "output_type": "stream",
     "text": [
      "('Samples mean 1', 2.2)\n",
      "('Sample mean 2', 4.95)\n",
      "('Sample STD1', 1.3266499161421599)\n",
      "('Sample STD2', 1.499166435056495)\n",
      "('Difference between two sample means', 2.75)\n"
     ]
    }
   ],
   "source": [
    "print((\"Samples mean 1\",sample1.mean()))\n",
    "print((\"Sample mean 2\",sample2.mean()))\n",
    "print((\"Sample STD1\",sample1.std()))\n",
    "print((\"Sample STD2\",sample2.std()))\n",
    "\n",
    "diff=sample2.mean( ) -sample1.mean()\n",
    "print((\"Difference between two sample means\",diff))"
   ]
  },
  {
   "cell_type": "markdown",
   "metadata": {},
   "source": [
    "#Same size 100 result\n",
    "#('Samples mean 1', 2.01)\n",
    "#('Sample mean 2', 5.16)\n",
    "#('Sample STD1', 1.1789402020458883)\n",
    "#('Sample STD2', 1.5919798993705918)\n",
    "#('Difference between two sample means', 3.1500000000000004)"
   ]
  },
  {
   "cell_type": "markdown",
   "metadata": {},
   "source": [
    "==================================================\n",
    "#Same size 20 result\n",
    "#('Samples mean 1', 2.2)\n",
    "#('Sample mean 2', 4.95)\n",
    "#('Sample STD1', 1.3266499161421599)\n",
    "#('Sample STD2', 1.499166435056495)\n",
    "#('Difference between two sample means', 2.75)"
   ]
  },
  {
   "cell_type": "code",
   "execution_count": 14,
   "metadata": {},
   "outputs": [
    {
     "name": "stdout",
     "output_type": "stream",
     "text": [
      "Ttest_indResult(statistic=11.862697578202619, pvalue=8.235735506079914e-25)\n"
     ]
    }
   ],
   "source": [
    "# change pop1 p =.3\n",
    "pop1 = np.random.binomial(10, 0.3, 10000)\n",
    "pop2 = np.random.binomial(10,0.5, 10000) \n",
    "\n",
    "sample1 = np.random.choice(pop1, 100, replace=True)\n",
    "sample2 = np.random.choice(pop2, 100, replace=True)\n",
    "\n",
    "from scipy.stats import ttest_ind\n",
    "print(ttest_ind(sample2, sample1, equal_var=False))"
   ]
  },
  {
   "cell_type": "code",
   "execution_count": 17,
   "metadata": {},
   "outputs": [
    {
     "name": "stdout",
     "output_type": "stream",
     "text": [
      "Ttest_indResult(statistic=4.818960599776582, pvalue=2.8726196733921347e-06)\n"
     ]
    }
   ],
   "source": [
    "# change pop1 p=.4\n",
    "pop1 = np.random.binomial(10, 0.4, 10000)\n",
    "pop2 = np.random.binomial(10,0.5, 10000) \n",
    "\n",
    "sample1 = np.random.choice(pop1, 100, replace=True)\n",
    "sample2 = np.random.choice(pop2, 100, replace=True)\n",
    "\n",
    "from scipy.stats import ttest_ind\n",
    "print(ttest_ind(sample2, sample1, equal_var=False))"
   ]
  },
  {
   "cell_type": "code",
   "execution_count": 18,
   "metadata": {},
   "outputs": [],
   "source": [
    "# The t-value gets smaller and the pvalue gets larger as the samples become closer"
   ]
  },
  {
   "cell_type": "code",
   "execution_count": 19,
   "metadata": {},
   "outputs": [
    {
     "name": "stdout",
     "output_type": "stream",
     "text": [
      "Ttest_indResult(statistic=5.525276087432577, pvalue=1.0621372031990978e-07)\n"
     ]
    }
   ],
   "source": [
    "# choose gamma distribution\n",
    "pop1 = np.random.gamma(10, 0.4, 10000)\n",
    "pop2 = np.random.gamma(10,0.5, 10000) \n",
    "\n",
    "sample1 = np.random.choice(pop1, 100, replace=True)\n",
    "sample2 = np.random.choice(pop2, 100, replace=True)\n",
    "\n",
    "from scipy.stats import ttest_ind\n",
    "print(ttest_ind(sample2, sample1, equal_var=False))"
   ]
  },
  {
   "cell_type": "code",
   "execution_count": null,
   "metadata": {},
   "outputs": [],
   "source": [
    "#The results are pretty similar as long as you a large enough sample size."
   ]
  }
 ],
 "metadata": {
  "kernelspec": {
   "display_name": "Python 3",
   "language": "python",
   "name": "python3"
  },
  "language_info": {
   "codemirror_mode": {
    "name": "ipython",
    "version": 3
   },
   "file_extension": ".py",
   "mimetype": "text/x-python",
   "name": "python",
   "nbconvert_exporter": "python",
   "pygments_lexer": "ipython3",
   "version": "3.7.1"
  }
 },
 "nbformat": 4,
 "nbformat_minor": 2
}
